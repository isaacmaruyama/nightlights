import osgeo.gdal as gdal
